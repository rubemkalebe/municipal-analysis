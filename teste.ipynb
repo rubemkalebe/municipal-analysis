{
 "cells": [
  {
   "cell_type": "code",
   "execution_count": 1,
   "metadata": {
    "collapsed": false
   },
   "outputs": [],
   "source": [
    "from src.data.get_health_units import GetHealthUnits\n",
    "from src.visualization.map.health_units_map import HealthUnitsMap\n",
    "\n",
    "health_units = GetHealthUnits.get()\n",
    "\n",
    "#hu_map = HealthUnitsMap(health_units)\n",
    "#hu_map.generateMap()"
   ]
  },
  {
   "cell_type": "code",
   "execution_count": null,
   "metadata": {
    "collapsed": false
   },
   "outputs": [],
   "source": [
    "from src.visualization.heatmap.health_units_heatmap import HealthUnitsHeatmap\n",
    "\n",
    "hu_heatmap = HealthUnitsHeatmap(health_units)\n",
    "hu_heatmap.generateMap()"
   ]
  },
  {
   "cell_type": "code",
   "execution_count": null,
   "metadata": {
    "collapsed": false
   },
   "outputs": [],
   "source": [
    "from src.data.get_mun_schools import GetMunicipalSchools\n",
    "from src.visualization.map.mun_schools_map import MunicipalSchoolsMap\n",
    "\n",
    "schools = GetMunicipalSchools.get()\n",
    "\n",
    "ms_map = MunicipalSchoolsMap(schools)\n",
    "ms_map.generateMap()"
   ]
  },
  {
   "cell_type": "code",
   "execution_count": null,
   "metadata": {
    "collapsed": false
   },
   "outputs": [],
   "source": [
    "from src.visualization.heatmap.mun_schools_heatmap import MunicipalSchoolsHeatmap\n",
    "\n",
    "ms_heatmap = MunicipalSchoolsHeatmap(schools)\n",
    "ms_heatmap.generateMap()"
   ]
  },
  {
   "cell_type": "code",
   "execution_count": null,
   "metadata": {
    "collapsed": true
   },
   "outputs": [],
   "source": []
  },
  {
   "cell_type": "code",
   "execution_count": null,
   "metadata": {
    "collapsed": true
   },
   "outputs": [],
   "source": []
  },
  {
   "cell_type": "code",
   "execution_count": 98,
   "metadata": {
    "collapsed": false
   },
   "outputs": [],
   "source": [
    "from src.visualization.charts.practitioners_by_district import PractitionersByDistrictPlot\n",
    "\n",
    "from bokeh.application.handlers import FunctionHandler\n",
    "from bokeh.application import Application\n",
    "\n",
    "from bokeh.layouts import widgetbox, row, column\n",
    "from bokeh.models import Select\n",
    "from bokeh.charts import Bar\n",
    "from bokeh.charts.attributes import cat\n",
    "from bokeh.charts.operations import blend\n",
    "from bokeh.models import ColumnDataSource\n",
    "\n",
    "from bokeh.palettes import PuBu\n",
    "from bokeh.models import ColumnDataSource, ranges, LabelSet\n",
    "from bokeh.plotting import figure\n",
    "\n",
    "import pandas as pd\n",
    "\n",
    "def getEmployees():\n",
    "    d = {}\n",
    "    for u in health_units:\n",
    "        if u.district.title() in d:\n",
    "            d[u.district.title()] += u.employees\n",
    "        else:\n",
    "            d[u.district.title()] = u.employees\n",
    "    return d\n",
    "\n",
    "def getUnits():\n",
    "    d = {}\n",
    "    for u in health_units:\n",
    "        if u.district.title() in d:\n",
    "            d[u.district.title()] += 1\n",
    "        else:\n",
    "            d[u.district.title()] = 1\n",
    "    return d\n",
    "\n",
    "def modify_doc(doc):\n",
    "\n",
    "    table = getEmployees()\n",
    "    table = {\n",
    "        'district' : [x for x in sorted(table.keys())],\n",
    "        'employees' : [table[x] for x in sorted(table.keys())]\n",
    "    }\n",
    "    source = ColumnDataSource(table)\n",
    "    \n",
    "    \n",
    "    # Define the callback function: update_plot\n",
    "    def update_plot(attr, old, new):\n",
    "        if new == 'Employees x District':\n",
    "            table = getEmployees()\n",
    "            source.data = {\n",
    "                'district' : [x for x in sorted(table.keys())],\n",
    "                'employees' : [table[x] for x in sorted(table.keys())]\n",
    "            }\n",
    "            plot.vbar(source=source,x='district',top='employees',bottom=0,width=0.3,color=PuBu[7][2])\n",
    "            #plot.x_range = source.data['district']\n",
    "            #plot.y_range = ranges.Range1d(start=0, end = max(source.data['employees']))\n",
    "            print(max(source.data['employees']))\n",
    "        else:\n",
    "            table = getUnits()\n",
    "            source.data = {\n",
    "                'district' : [x for x in sorted(table.keys())],\n",
    "                'employees' : [table[x] for x in sorted(table.keys())]\n",
    "            }\n",
    "            plot.vbar(source=source,x='district',top='employees',bottom=0,width=0.3,color=PuBu[7][2])\n",
    "            #plot.x_range = source.data['district']\n",
    "            print(max(source.data['employees']))\n",
    "            #plot.y_range = ranges.Range1d(start=0, end = max(source.data['employees']))\n",
    "\n",
    "    # Create a dropdown Select widget for the x data: x_select\n",
    "    plot_select = Select (\n",
    "        options = ['Employees x District', 'Units x District'],\n",
    "        value = 'Employees x District',\n",
    "        title = 'Plot'\n",
    "    )\n",
    "\n",
    "    # Attach the callback to the 'value' property of selects\n",
    "    plot_select.on_change('value', update_plot)\n",
    "    \n",
    "    plot = figure(plot_width=600, plot_height=400, tools=\"save\",\n",
    "            x_axis_label = \"\",\n",
    "            y_axis_label = \"Employees\",\n",
    "            title = \"Employees by District\",\n",
    "#            x_minor_ticks = 5,\n",
    "            x_range = source.data['district'])\n",
    "#            y_range= ranges.Range1d(start=0, end = max(source.data['employees'])))\n",
    "\n",
    "    plot.vbar(source=source,x='district',top='employees',bottom=0,width=0.3,color=PuBu[7][2])\n",
    "    #plot.add_layout(labels)\n",
    "    \n",
    "    # Make a row layout of widgetbox(slider) and p and add it to the current document\n",
    "    layout = column(widgetbox(plot_select), plot)\n",
    "    \n",
    "    doc.add_root(layout)\n",
    "\n",
    "\n",
    "\n",
    "handler = FunctionHandler(modify_doc)\n",
    "app = Application(handler)\n",
    "\n",
    "from tornado.ioloop import IOLoop\n",
    "loop = IOLoop.current()"
   ]
  },
  {
   "cell_type": "code",
   "execution_count": 99,
   "metadata": {
    "collapsed": true
   },
   "outputs": [],
   "source": [
    "def show_app(app, notebook_url=\"127.0.0.1:8888\"):\n",
    "    from IPython.display import HTML, display\n",
    "    from bokeh.embed import autoload_server\n",
    "    from bokeh.server.server import Server\n",
    "    \n",
    "    server = Server({'/': app}, io_loop=loop, port=0, host='*', allow_websocket_origin=[notebook_url])\n",
    "    server.start()\n",
    "    \n",
    "    script = autoload_server(model=None, url='http://127.0.0.1:%d' % server.port)\n",
    "    \n",
    "    display(HTML(script))"
   ]
  },
  {
   "cell_type": "code",
   "execution_count": 100,
   "metadata": {
    "collapsed": false
   },
   "outputs": [
    {
     "name": "stderr",
     "output_type": "stream",
     "text": [
      "INFO:bokeh.server.server:Starting Bokeh server version 0.12.4\n",
      "WARNING:bokeh.server.server:Host wildcard '*' can expose the application to HTTP host header attacks. Host wildcard should only be used for testing purpose.\n"
     ]
    },
    {
     "data": {
      "text/html": [
       "\n",
       "<script\n",
       "    src=\"http://127.0.0.1:50453/autoload.js?bokeh-autoload-element=7125cc6e-9855-4fba-a645-24bb6fd6a82e\"\n",
       "    id=\"7125cc6e-9855-4fba-a645-24bb6fd6a82e\"\n",
       "    data-bokeh-model-id=\"\"\n",
       "    data-bokeh-doc-id=\"\"\n",
       "></script>"
      ],
      "text/plain": [
       "<IPython.core.display.HTML object>"
      ]
     },
     "metadata": {},
     "output_type": "display_data"
    },
    {
     "name": "stderr",
     "output_type": "stream",
     "text": [
      "INFO:tornado.access:200 GET /autoload.js?bokeh-autoload-element=7125cc6e-9855-4fba-a645-24bb6fd6a82e&_=1492274047527 (127.0.0.1) 45.16ms\n",
      "INFO:tornado.access:200 GET /static/js/bokeh.min.js?v=9d3af13f493d36073a89714f6a5240c6 (127.0.0.1) 5.63ms\n",
      "INFO:tornado.access:200 GET /static/js/bokeh-widgets.min.js?v=1af1302b8bd7fcc88c7bcafb8771497b (127.0.0.1) 2.91ms\n",
      "INFO:bokeh.server.views.ws:WebSocket connection opened\n",
      "INFO:bokeh.server.views.ws:ServerConnection created\n",
      "INFO:tornado.access:200 GET /static/css/bokeh.min.css?v=7246afcfffc127faef7c138bce4742e9 (127.0.0.1) 2.17ms\n",
      "INFO:tornado.access:200 GET /static/css/bokeh-widgets.min.css?v=d9cb9322d940f107727b091ff98d9c70 (127.0.0.1) 2.39ms\n"
     ]
    },
    {
     "name": "stdout",
     "output_type": "stream",
     "text": [
      "11\n",
      "383\n"
     ]
    }
   ],
   "source": [
    "show_app(app)"
   ]
  },
  {
   "cell_type": "code",
   "execution_count": null,
   "metadata": {
    "collapsed": false
   },
   "outputs": [],
   "source": [
    "from bokeh.layouts import widgetbox, row\n",
    "from bokeh.models import Select\n",
    "from bokeh.charts import Bar\n",
    "from bokeh.charts.attributes import cat\n",
    "from bokeh.charts.operations import blend\n",
    "from bokeh.io import output_notebook, show\n",
    "\n",
    "def getPractitioners(district):\n",
    "    d = {}\n",
    "    for u in health_units:\n",
    "        if u.district == district:\n",
    "            for field in u.practitioners:\n",
    "                if field in d:\n",
    "                    d[field] += u.practitioners[field]\n",
    "                else:\n",
    "                    d[field] = u.practitioners[field]\n",
    "    return d\n",
    "\n",
    "d = getPractitioners('Norte I')\n",
    "\n",
    "table = {\n",
    "    'expertise' : [x for x in sorted(d.keys())],\n",
    "    'amount' : [d[x] for x in sorted(d.keys())]\n",
    "}\n",
    "\n",
    "# Attach the callback to the 'value' property of selects\n",
    "#district_select.on_change('value', update_plot)        \n",
    "\n",
    "# Add the color mapper to the circle glyph\n",
    "bar = Bar(\\\n",
    "        table,\n",
    "        values = blend('amount', name = 'amount', labels_name = 'amount'),\\\n",
    "        label = cat(columns = 'expertise'),\\\n",
    "        stack = cat(columns = 'amount'),\\\n",
    "        agg = 'mean',\\\n",
    "        title = 'Teste ',\\\n",
    "        legend = False)#),\\\n",
    "        #tooltips = [('Average', '@average{1.11}' + ' g/km')])\n",
    "\n",
    "# Make a row layout of widgetbox(slider) and p and add it to the current document\n",
    "#layout = row(widgetbox(district_select), bar)\n",
    "\n",
    "output_notebook()\n",
    "show(bar)"
   ]
  },
  {
   "cell_type": "code",
   "execution_count": 14,
   "metadata": {
    "collapsed": false
   },
   "outputs": [
    {
     "name": "stdout",
     "output_type": "stream",
     "text": [
      "   abbr   medal  medal_count\n",
      "0   RUS  bronze            7\n",
      "1   NLD  bronze            8\n",
      "2   USA  bronze           10\n",
      "3   NOR  bronze            7\n",
      "4   CAN  bronze            4\n",
      "5   DEU  bronze            4\n",
      "6   FRA  bronze            5\n",
      "7   CHE  bronze            1\n",
      "8   AUT  bronze            1\n",
      "9   SWE  bronze            2\n",
      "10  RUS  silver            8\n",
      "11  NLD  silver            6\n",
      "12  USA  silver            4\n",
      "13  NOR  silver            4\n",
      "14  CAN  silver            8\n",
      "15  DEU  silver            3\n",
      "16  FRA  silver            2\n",
      "17  CHE  silver            3\n",
      "18  AUT  silver            6\n",
      "19  SWE  silver            5\n",
      "20  RUS    gold            6\n",
      "21  NLD    gold            6\n",
      "22  USA    gold            6\n",
      "23  NOR    gold            8\n",
      "24  CAN    gold            4\n",
      "25  DEU    gold            8\n",
      "26  FRA    gold            3\n",
      "27  CHE    gold            6\n",
      "28  AUT    gold            2\n",
      "29  SWE    gold            2\n"
     ]
    },
    {
     "ename": "TypeError",
     "evalue": "'NoneType' object is not iterable",
     "output_type": "error",
     "traceback": [
      "\u001b[0;31m---------------------------------------------------------------------------\u001b[0m",
      "\u001b[0;31mTypeError\u001b[0m                                 Traceback (most recent call last)",
      "\u001b[0;32m<ipython-input-14-c42a74627b23>\u001b[0m in \u001b[0;36m<module>\u001b[0;34m()\u001b[0m\n\u001b[1;32m     22\u001b[0m \u001b[0;31m#          text_font_size='8pt', hover_text='medal_count')\u001b[0m\u001b[0;34m\u001b[0m\u001b[0;34m\u001b[0m\u001b[0m\n\u001b[1;32m     23\u001b[0m d = Donut(df.groupby(['medal']), label=['medal'], values='medal_count',\n\u001b[0;32m---> 24\u001b[0;31m           text_font_size='8pt', hover_text='medal_count')\n\u001b[0m\u001b[1;32m     25\u001b[0m \u001b[0;34m\u001b[0m\u001b[0m\n\u001b[1;32m     26\u001b[0m \u001b[0moutput_notebook\u001b[0m\u001b[0;34m(\u001b[0m\u001b[0;34m)\u001b[0m\u001b[0;34m\u001b[0m\u001b[0m\n",
      "\u001b[0;32m/home/rubemkalebe/anaconda3/lib/python3.6/site-packages/bokeh/charts/builders/donut_builder.py\u001b[0m in \u001b[0;36mDonut\u001b[0;34m(data, label, values, color, agg, hover_tool, hover_text, plot_height, plot_width, xgrid, ygrid, **kw)\u001b[0m\n\u001b[1;32m    112\u001b[0m         \u001b[0mkw\u001b[0m\u001b[0;34m[\u001b[0m\u001b[0;34m'agg'\u001b[0m\u001b[0;34m]\u001b[0m \u001b[0;34m=\u001b[0m \u001b[0magg\u001b[0m\u001b[0;34m\u001b[0m\u001b[0m\n\u001b[1;32m    113\u001b[0m \u001b[0;34m\u001b[0m\u001b[0m\n\u001b[0;32m--> 114\u001b[0;31m     \u001b[0mchart\u001b[0m \u001b[0;34m=\u001b[0m \u001b[0mcreate_and_build\u001b[0m\u001b[0;34m(\u001b[0m\u001b[0mDonutBuilder\u001b[0m\u001b[0;34m,\u001b[0m \u001b[0mdata\u001b[0m\u001b[0;34m,\u001b[0m \u001b[0;34m**\u001b[0m\u001b[0mkw\u001b[0m\u001b[0;34m)\u001b[0m\u001b[0;34m\u001b[0m\u001b[0m\n\u001b[0m\u001b[1;32m    115\u001b[0m \u001b[0;34m\u001b[0m\u001b[0m\n\u001b[1;32m    116\u001b[0m     \u001b[0mchart\u001b[0m\u001b[0;34m.\u001b[0m\u001b[0mleft\u001b[0m\u001b[0;34m[\u001b[0m\u001b[0;36m0\u001b[0m\u001b[0;34m]\u001b[0m\u001b[0;34m.\u001b[0m\u001b[0mvisible\u001b[0m \u001b[0;34m=\u001b[0m \u001b[0;32mFalse\u001b[0m\u001b[0;34m\u001b[0m\u001b[0m\n",
      "\u001b[0;32m/home/rubemkalebe/anaconda3/lib/python3.6/site-packages/bokeh/charts/builder.py\u001b[0m in \u001b[0;36mcreate_and_build\u001b[0;34m(builder_class, *data, **kws)\u001b[0m\n\u001b[1;32m     50\u001b[0m     \u001b[0;31m# create the new builder\u001b[0m\u001b[0;34m\u001b[0m\u001b[0;34m\u001b[0m\u001b[0m\n\u001b[1;32m     51\u001b[0m     \u001b[0mbuilder_kws\u001b[0m \u001b[0;34m=\u001b[0m \u001b[0;34m{\u001b[0m\u001b[0mk\u001b[0m\u001b[0;34m:\u001b[0m \u001b[0mv\u001b[0m \u001b[0;32mfor\u001b[0m \u001b[0mk\u001b[0m\u001b[0;34m,\u001b[0m \u001b[0mv\u001b[0m \u001b[0;32min\u001b[0m \u001b[0mkws\u001b[0m\u001b[0;34m.\u001b[0m\u001b[0mitems\u001b[0m\u001b[0;34m(\u001b[0m\u001b[0;34m)\u001b[0m \u001b[0;32mif\u001b[0m \u001b[0mk\u001b[0m \u001b[0;32min\u001b[0m \u001b[0mbuilder_props\u001b[0m\u001b[0;34m}\u001b[0m\u001b[0;34m\u001b[0m\u001b[0m\n\u001b[0;32m---> 52\u001b[0;31m     \u001b[0mbuilder\u001b[0m \u001b[0;34m=\u001b[0m \u001b[0mbuilder_class\u001b[0m\u001b[0;34m(\u001b[0m\u001b[0;34m*\u001b[0m\u001b[0mdata\u001b[0m\u001b[0;34m,\u001b[0m \u001b[0;34m**\u001b[0m\u001b[0mbuilder_kws\u001b[0m\u001b[0;34m)\u001b[0m\u001b[0;34m\u001b[0m\u001b[0m\n\u001b[0m\u001b[1;32m     53\u001b[0m \u001b[0;34m\u001b[0m\u001b[0m\n\u001b[1;32m     54\u001b[0m     \u001b[0;31m# create a chart to return, since there isn't one already\u001b[0m\u001b[0;34m\u001b[0m\u001b[0;34m\u001b[0m\u001b[0m\n",
      "\u001b[0;32m/home/rubemkalebe/anaconda3/lib/python3.6/site-packages/bokeh/charts/builder.py\u001b[0m in \u001b[0;36m__init__\u001b[0;34m(self, *args, **kws)\u001b[0m\n\u001b[1;32m    279\u001b[0m \u001b[0;34m\u001b[0m\u001b[0m\n\u001b[1;32m    280\u001b[0m             \u001b[0;31m# handle input attrs and ensure attrs have access to data\u001b[0m\u001b[0;34m\u001b[0m\u001b[0;34m\u001b[0m\u001b[0m\n\u001b[0;32m--> 281\u001b[0;31m             \u001b[0mattributes\u001b[0m \u001b[0;34m=\u001b[0m \u001b[0mself\u001b[0m\u001b[0;34m.\u001b[0m\u001b[0m_setup_attrs\u001b[0m\u001b[0;34m(\u001b[0m\u001b[0mdata\u001b[0m\u001b[0;34m,\u001b[0m \u001b[0mkws\u001b[0m\u001b[0;34m)\u001b[0m\u001b[0;34m\u001b[0m\u001b[0m\n\u001b[0m\u001b[1;32m    282\u001b[0m \u001b[0;34m\u001b[0m\u001b[0m\n\u001b[1;32m    283\u001b[0m             \u001b[0;31m# remove inputs handled by dimensions and chart attributes\u001b[0m\u001b[0;34m\u001b[0m\u001b[0;34m\u001b[0m\u001b[0m\n",
      "\u001b[0;32m/home/rubemkalebe/anaconda3/lib/python3.6/site-packages/bokeh/charts/builder.py\u001b[0m in \u001b[0;36m_setup_attrs\u001b[0;34m(self, data, kws)\u001b[0m\n\u001b[1;32m    334\u001b[0m                         \u001b[0mattributes\u001b[0m\u001b[0;34m[\u001b[0m\u001b[0mattr_name\u001b[0m\u001b[0;34m]\u001b[0m\u001b[0;34m.\u001b[0m\u001b[0miterable\u001b[0m \u001b[0;34m=\u001b[0m \u001b[0mcustom_palette\u001b[0m\u001b[0;34m\u001b[0m\u001b[0m\n\u001b[1;32m    335\u001b[0m \u001b[0;34m\u001b[0m\u001b[0m\n\u001b[0;32m--> 336\u001b[0;31m                 \u001b[0mattributes\u001b[0m\u001b[0;34m[\u001b[0m\u001b[0mattr_name\u001b[0m\u001b[0;34m]\u001b[0m\u001b[0;34m.\u001b[0m\u001b[0msetup\u001b[0m\u001b[0;34m(\u001b[0m\u001b[0mdata\u001b[0m\u001b[0;34m=\u001b[0m\u001b[0msource\u001b[0m\u001b[0;34m,\u001b[0m \u001b[0mcolumns\u001b[0m\u001b[0;34m=\u001b[0m\u001b[0mattr\u001b[0m\u001b[0;34m)\u001b[0m\u001b[0;34m\u001b[0m\u001b[0m\n\u001b[0m\u001b[1;32m    337\u001b[0m \u001b[0;34m\u001b[0m\u001b[0m\n\u001b[1;32m    338\u001b[0m             \u001b[0;32melse\u001b[0m\u001b[0;34m:\u001b[0m\u001b[0;34m\u001b[0m\u001b[0m\n",
      "\u001b[0;32m/home/rubemkalebe/anaconda3/lib/python3.6/site-packages/bokeh/charts/attributes.py\u001b[0m in \u001b[0;36msetup\u001b[0;34m(self, data, columns)\u001b[0m\n\u001b[1;32m    197\u001b[0m \u001b[0;34m\u001b[0m\u001b[0m\n\u001b[1;32m    198\u001b[0m         \u001b[0;32mif\u001b[0m \u001b[0mcolumns\u001b[0m \u001b[0;32mis\u001b[0m \u001b[0;32mnot\u001b[0m \u001b[0;32mNone\u001b[0m \u001b[0;32mand\u001b[0m \u001b[0mself\u001b[0m\u001b[0;34m.\u001b[0m\u001b[0mdata\u001b[0m \u001b[0;32mis\u001b[0m \u001b[0;32mnot\u001b[0m \u001b[0;32mNone\u001b[0m\u001b[0;34m:\u001b[0m\u001b[0;34m\u001b[0m\u001b[0m\n\u001b[0;32m--> 199\u001b[0;31m             \u001b[0mself\u001b[0m\u001b[0;34m.\u001b[0m\u001b[0mset_columns\u001b[0m\u001b[0;34m(\u001b[0m\u001b[0mcolumns\u001b[0m\u001b[0;34m)\u001b[0m\u001b[0;34m\u001b[0m\u001b[0m\n\u001b[0m\u001b[1;32m    200\u001b[0m \u001b[0;34m\u001b[0m\u001b[0m\n\u001b[1;32m    201\u001b[0m         \u001b[0;32mif\u001b[0m \u001b[0mself\u001b[0m\u001b[0;34m.\u001b[0m\u001b[0mcolumns\u001b[0m \u001b[0;32mis\u001b[0m \u001b[0;32mnot\u001b[0m \u001b[0;32mNone\u001b[0m \u001b[0;32mand\u001b[0m \u001b[0mself\u001b[0m\u001b[0;34m.\u001b[0m\u001b[0mdata\u001b[0m \u001b[0;32mis\u001b[0m \u001b[0;32mnot\u001b[0m \u001b[0;32mNone\u001b[0m\u001b[0;34m:\u001b[0m\u001b[0;34m\u001b[0m\u001b[0m\n",
      "\u001b[0;32m/home/rubemkalebe/anaconda3/lib/python3.6/site-packages/bokeh/charts/attributes.py\u001b[0m in \u001b[0;36mset_columns\u001b[0;34m(self, columns)\u001b[0m\n\u001b[1;32m    189\u001b[0m             \u001b[0;31m# assume this is now the iterable at this point\u001b[0m\u001b[0;34m\u001b[0m\u001b[0;34m\u001b[0m\u001b[0m\n\u001b[1;32m    190\u001b[0m             \u001b[0mself\u001b[0m\u001b[0;34m.\u001b[0m\u001b[0miterable\u001b[0m \u001b[0;34m=\u001b[0m \u001b[0mcolumns\u001b[0m\u001b[0;34m\u001b[0m\u001b[0m\n\u001b[0;32m--> 191\u001b[0;31m             \u001b[0mself\u001b[0m\u001b[0;34m.\u001b[0m\u001b[0m_setup_default\u001b[0m\u001b[0;34m(\u001b[0m\u001b[0;34m)\u001b[0m\u001b[0;34m\u001b[0m\u001b[0m\n\u001b[0m\u001b[1;32m    192\u001b[0m \u001b[0;34m\u001b[0m\u001b[0m\n\u001b[1;32m    193\u001b[0m     \u001b[0;32mdef\u001b[0m \u001b[0msetup\u001b[0m\u001b[0;34m(\u001b[0m\u001b[0mself\u001b[0m\u001b[0;34m,\u001b[0m \u001b[0mdata\u001b[0m\u001b[0;34m=\u001b[0m\u001b[0;32mNone\u001b[0m\u001b[0;34m,\u001b[0m \u001b[0mcolumns\u001b[0m\u001b[0;34m=\u001b[0m\u001b[0;32mNone\u001b[0m\u001b[0;34m)\u001b[0m\u001b[0;34m:\u001b[0m\u001b[0;34m\u001b[0m\u001b[0m\n",
      "\u001b[0;32m/home/rubemkalebe/anaconda3/lib/python3.6/site-packages/bokeh/charts/attributes.py\u001b[0m in \u001b[0;36m_setup_default\u001b[0;34m(self)\u001b[0m\n\u001b[1;32m    146\u001b[0m     \u001b[0;32mdef\u001b[0m \u001b[0m_setup_default\u001b[0m\u001b[0;34m(\u001b[0m\u001b[0mself\u001b[0m\u001b[0;34m)\u001b[0m\u001b[0;34m:\u001b[0m\u001b[0;34m\u001b[0m\u001b[0m\n\u001b[1;32m    147\u001b[0m         \u001b[0;34m\"\"\"Stores the first value of iterable into `default` property.\"\"\"\u001b[0m\u001b[0;34m\u001b[0m\u001b[0m\n\u001b[0;32m--> 148\u001b[0;31m         \u001b[0mself\u001b[0m\u001b[0;34m.\u001b[0m\u001b[0mdefault\u001b[0m \u001b[0;34m=\u001b[0m \u001b[0mnext\u001b[0m\u001b[0;34m(\u001b[0m\u001b[0mself\u001b[0m\u001b[0;34m.\u001b[0m\u001b[0m_setup_iterable\u001b[0m\u001b[0;34m(\u001b[0m\u001b[0;34m)\u001b[0m\u001b[0;34m)\u001b[0m\u001b[0;34m\u001b[0m\u001b[0m\n\u001b[0m\u001b[1;32m    149\u001b[0m \u001b[0;34m\u001b[0m\u001b[0m\n\u001b[1;32m    150\u001b[0m     \u001b[0;32mdef\u001b[0m \u001b[0m_setup_iterable\u001b[0m\u001b[0;34m(\u001b[0m\u001b[0mself\u001b[0m\u001b[0;34m)\u001b[0m\u001b[0;34m:\u001b[0m\u001b[0;34m\u001b[0m\u001b[0m\n",
      "\u001b[0;32m/home/rubemkalebe/anaconda3/lib/python3.6/site-packages/bokeh/charts/attributes.py\u001b[0m in \u001b[0;36m_setup_iterable\u001b[0;34m(self)\u001b[0m\n\u001b[1;32m    324\u001b[0m \u001b[0;34m\u001b[0m\u001b[0m\n\u001b[1;32m    325\u001b[0m     \u001b[0;32mdef\u001b[0m \u001b[0m_setup_iterable\u001b[0m\u001b[0;34m(\u001b[0m\u001b[0mself\u001b[0m\u001b[0;34m)\u001b[0m\u001b[0;34m:\u001b[0m\u001b[0;34m\u001b[0m\u001b[0m\n\u001b[0;32m--> 326\u001b[0;31m         \u001b[0;32mreturn\u001b[0m \u001b[0miter\u001b[0m\u001b[0;34m(\u001b[0m\u001b[0mself\u001b[0m\u001b[0;34m.\u001b[0m\u001b[0mitems\u001b[0m\u001b[0;34m)\u001b[0m\u001b[0;34m\u001b[0m\u001b[0m\n\u001b[0m\u001b[1;32m    327\u001b[0m \u001b[0;34m\u001b[0m\u001b[0m\n\u001b[1;32m    328\u001b[0m     \u001b[0;32mdef\u001b[0m \u001b[0mget_levels\u001b[0m\u001b[0;34m(\u001b[0m\u001b[0mself\u001b[0m\u001b[0;34m,\u001b[0m \u001b[0mcolumns\u001b[0m\u001b[0;34m)\u001b[0m\u001b[0;34m:\u001b[0m\u001b[0;34m\u001b[0m\u001b[0m\n",
      "\u001b[0;31mTypeError\u001b[0m: 'NoneType' object is not iterable"
     ]
    }
   ],
   "source": [
    "from bokeh.io import output_notebook, show\n",
    "from bokeh.charts import Donut\n",
    "from bokeh.charts.utils import df_from_json\n",
    "from bokeh.sampledata.olympics2014 import data\n",
    "\n",
    "import pandas as pd\n",
    "\n",
    "# utilize utility to make it easy to get json/dict data converted to a dataframe\n",
    "df = df_from_json(data)\n",
    "\n",
    "# filter by countries with at least one medal and sort by total medals\n",
    "df = df[df['total'] > 8]\n",
    "df = df.sort_values(by=\"total\", ascending=False)\n",
    "\n",
    "df = pd.melt(df, id_vars=['abbr'],\n",
    "             value_vars=['bronze', 'silver', 'gold'],\n",
    "             value_name='medal_count', var_name='medal')\n",
    "#print(df.groupby(['medal']))\n",
    "print(df)\n",
    "# original example\n",
    "#d = Donut(df, label=['abbr', 'medal'], values='medal_count',\n",
    "#          text_font_size='8pt', hover_text='medal_count')\n",
    "d = Donut(df.groupby(['medal']), label=['medal'], values='medal_count',\n",
    "          text_font_size='8pt', hover_text='medal_count')\n",
    "\n",
    "output_notebook()\n",
    "show(d)"
   ]
  },
  {
   "cell_type": "code",
   "execution_count": null,
   "metadata": {
    "collapsed": true
   },
   "outputs": [],
   "source": []
  }
 ],
 "metadata": {
  "kernelspec": {
   "display_name": "Python 3",
   "language": "python",
   "name": "python3"
  },
  "language_info": {
   "codemirror_mode": {
    "name": "ipython",
    "version": 3
   },
   "file_extension": ".py",
   "mimetype": "text/x-python",
   "name": "python",
   "nbconvert_exporter": "python",
   "pygments_lexer": "ipython3",
   "version": "3.6.0"
  }
 },
 "nbformat": 4,
 "nbformat_minor": 2
}
